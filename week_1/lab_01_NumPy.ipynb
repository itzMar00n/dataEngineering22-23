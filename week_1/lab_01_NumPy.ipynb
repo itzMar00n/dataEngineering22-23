{
  "cells": [
    {
      "cell_type": "markdown",
      "metadata": {
        "id": "0X0EEkUgPzor"
      },
      "source": [
        "# Recalling Numpy Array Slicing and Indexing"
      ]
    },
    {
      "cell_type": "code",
      "execution_count": 79,
      "metadata": {
        "id": "aaBH2XbqPzos"
      },
      "outputs": [],
      "source": [
        "import numpy as np"
      ]
    },
    {
      "cell_type": "code",
      "execution_count": 80,
      "metadata": {
        "id": "VvWTW4EDPzot"
      },
      "outputs": [],
      "source": [
        "#create array\n",
        "x = np.asarray(range(1,26), np.int8).reshape(5,5)"
      ]
    },
    {
      "cell_type": "code",
      "execution_count": 81,
      "metadata": {
        "colab": {
          "base_uri": "https://localhost:8080/"
        },
        "id": "AXthc_nuPzou",
        "outputId": "f93f63f3-2f09-4af0-eea3-755fb311c592"
      },
      "outputs": [
        {
          "output_type": "execute_result",
          "data": {
            "text/plain": [
              "array([[ 1,  2,  3,  4,  5],\n",
              "       [ 6,  7,  8,  9, 10],\n",
              "       [11, 12, 13, 14, 15],\n",
              "       [16, 17, 18, 19, 20],\n",
              "       [21, 22, 23, 24, 25]], dtype=int8)"
            ]
          },
          "metadata": {},
          "execution_count": 81
        }
      ],
      "source": [
        "x"
      ]
    },
    {
      "cell_type": "markdown",
      "metadata": {
        "id": "LtR50Iy6Pzov"
      },
      "source": [
        "## Slice first 3 elements\n",
        "\n",
        "<img src=\"https://github.com/keuperj/DataEngineering22/blob/main/week_1/IMG/np01.png?raw=1\">"
      ]
    },
    {
      "cell_type": "code",
      "execution_count": 82,
      "metadata": {
        "colab": {
          "base_uri": "https://localhost:8080/"
        },
        "id": "SBHqkw1UPzov",
        "outputId": "a287ca10-152a-40ef-9fad-77e360420384"
      },
      "outputs": [
        {
          "output_type": "execute_result",
          "data": {
            "text/plain": [
              "array([1, 2, 3], dtype=int8)"
            ]
          },
          "metadata": {},
          "execution_count": 82
        }
      ],
      "source": [
        "sliced3 = x[0, :3]\n",
        "sliced3"
      ]
    },
    {
      "cell_type": "markdown",
      "metadata": {
        "id": "Otvh1jfAPzow"
      },
      "source": [
        "##  Slice first 8 elements\n",
        "\n",
        "<img src=\"https://github.com/keuperj/DataEngineering22/blob/main/week_1/IMG/np02.png?raw=1\">"
      ]
    },
    {
      "cell_type": "code",
      "execution_count": 83,
      "metadata": {
        "colab": {
          "base_uri": "https://localhost:8080/"
        },
        "id": "zcjbAiSdPzox",
        "outputId": "b9757d8c-2ec3-499a-e3f0-aabb3fb2cb21"
      },
      "outputs": [
        {
          "output_type": "execute_result",
          "data": {
            "text/plain": [
              "array([1, 2, 3, 4, 5, 6, 7, 8], dtype=int8)"
            ]
          },
          "metadata": {},
          "execution_count": 83
        }
      ],
      "source": [
        "sliced8 = x.reshape(-1)[:8]\n",
        "sliced8"
      ]
    },
    {
      "cell_type": "markdown",
      "metadata": {
        "id": "rdKU23DBPzox"
      },
      "source": [
        "## Skip every other element\n",
        "\n",
        "<img src=\"https://github.com/keuperj/DataEngineering22/blob/main/week_1/IMG/np03.png?raw=1\">"
      ]
    },
    {
      "cell_type": "code",
      "execution_count": 84,
      "metadata": {
        "colab": {
          "base_uri": "https://localhost:8080/"
        },
        "id": "3GcfY3BjPzoy",
        "outputId": "f1d73796-9202-4fb6-d179-54e285d89fe5"
      },
      "outputs": [
        {
          "output_type": "execute_result",
          "data": {
            "text/plain": [
              "array([1, 3, 5], dtype=int8)"
            ]
          },
          "metadata": {},
          "execution_count": 84
        }
      ],
      "source": [
        "skipped = x[0, :5:2]\n",
        "skipped"
      ]
    },
    {
      "cell_type": "markdown",
      "metadata": {
        "id": "U3FK84JiPzoy"
      },
      "source": [
        "## Slice first column\n",
        "\n",
        "<img src=\"https://github.com/keuperj/DataEngineering22/blob/main/week_1/IMG/np04.png?raw=1\">"
      ]
    },
    {
      "cell_type": "code",
      "execution_count": 85,
      "metadata": {
        "colab": {
          "base_uri": "https://localhost:8080/"
        },
        "id": "7FmvBVwXPzoy",
        "outputId": "4fcbd03b-c6b3-4397-92e1-bd269541fda8"
      },
      "outputs": [
        {
          "output_type": "execute_result",
          "data": {
            "text/plain": [
              "array([ 1,  6, 11, 16], dtype=int8)"
            ]
          },
          "metadata": {},
          "execution_count": 85
        }
      ],
      "source": [
        "firstCol = x[0:4, 0]\n",
        "firstCol"
      ]
    },
    {
      "cell_type": "markdown",
      "metadata": {
        "id": "ghQxom_pPzoz"
      },
      "source": [
        "## Slice a diagonal\n",
        "\n",
        "<img src=\"https://github.com/keuperj/DataEngineering22/blob/main/week_1/IMG/np05.png?raw=1\">"
      ]
    },
    {
      "cell_type": "code",
      "execution_count": 86,
      "metadata": {
        "colab": {
          "base_uri": "https://localhost:8080/"
        },
        "id": "5VQkpgMaPzoz",
        "outputId": "57af1fa9-82f1-4b24-d414-e15f086804de"
      },
      "outputs": [
        {
          "output_type": "execute_result",
          "data": {
            "text/plain": [
              "array([ 1,  7, 13, 19, 25], dtype=int8)"
            ]
          },
          "metadata": {},
          "execution_count": 86
        }
      ],
      "source": [
        "diagonal = np.diagonal(x)\n",
        "diagonal"
      ]
    },
    {
      "cell_type": "markdown",
      "metadata": {
        "id": "MZJO_NvzPzo0"
      },
      "source": [
        "## Repeat the first element\n",
        "\n",
        "<img src=\"https://github.com/keuperj/DataEngineering22/blob/main/week_1/IMG/np06.png?raw=1\">"
      ]
    },
    {
      "cell_type": "code",
      "execution_count": 87,
      "metadata": {
        "colab": {
          "base_uri": "https://localhost:8080/"
        },
        "id": "yLkVcGRvPzo0",
        "outputId": "489f55f0-21d6-4122-afd7-34142c872c43"
      },
      "outputs": [
        {
          "output_type": "execute_result",
          "data": {
            "text/plain": [
              "array([1, 1, 1, 1, 1], dtype=int8)"
            ]
          },
          "metadata": {},
          "execution_count": 87
        }
      ],
      "source": [
        "repeated = x[0,0].repeat(5)\n",
        "repeated"
      ]
    },
    {
      "cell_type": "markdown",
      "metadata": {
        "id": "oOxttYNWPzo0"
      },
      "source": [
        "## Simple 2D slicing\n",
        "\n",
        "<img src=\"https://github.com/keuperj/DataEngineering22/blob/main/week_1/IMG/np07.png?raw=1\">"
      ]
    },
    {
      "cell_type": "code",
      "execution_count": 88,
      "metadata": {
        "colab": {
          "base_uri": "https://localhost:8080/"
        },
        "id": "74aSVX6EPzo1",
        "outputId": "c548c999-0ca4-495c-aff5-336738d5c5db"
      },
      "outputs": [
        {
          "output_type": "execute_result",
          "data": {
            "text/plain": [
              "array([[ 1,  2,  3,  4],\n",
              "       [ 6,  7,  8,  9],\n",
              "       [11, 12, 13, 14]], dtype=int8)"
            ]
          },
          "metadata": {},
          "execution_count": 88
        }
      ],
      "source": [
        "sliced2d = x[:3,:4]\n",
        "sliced2d"
      ]
    },
    {
      "cell_type": "markdown",
      "metadata": {
        "id": "LxDC_TZWPzo1"
      },
      "source": [
        "## Slice a zigzag \n",
        "\n",
        "<img src=\"https://github.com/keuperj/DataEngineering22/blob/main/week_1/IMG/np08.png?raw=1\">"
      ]
    },
    {
      "cell_type": "code",
      "execution_count": 97,
      "metadata": {
        "colab": {
          "base_uri": "https://localhost:8080/"
        },
        "id": "obD2pyDUPzo1",
        "outputId": "6f12e8e9-a22e-476c-b4b2-15d9f20d208e"
      },
      "outputs": [
        {
          "output_type": "execute_result",
          "data": {
            "text/plain": [
              "array([[1, 9],\n",
              "       [5, 1],\n",
              "       [4, 5],\n",
              "       [3, 1]], dtype=int8)"
            ]
          },
          "metadata": {},
          "execution_count": 97
        }
      ],
      "source": [
        "from numpy.lib.stride_tricks import as_strided\n",
        "zigzag = np.asarray(range(1,26), np.int32).reshape(5,5)\n",
        "as_strided(x, shape=(4,2), strides=(48,8))\n"
      ]
    },
    {
      "cell_type": "markdown",
      "metadata": {
        "id": "WPwJ19h4Pzo2"
      },
      "source": [
        "## Sparse slicing\n",
        "\n",
        "<img src=\"https://github.com/keuperj/DataEngineering22/blob/main/week_1/IMG/np09.png?raw=1\">"
      ]
    },
    {
      "cell_type": "code",
      "execution_count": 90,
      "metadata": {
        "colab": {
          "base_uri": "https://localhost:8080/"
        },
        "id": "9xj0Th3aPzo2",
        "outputId": "261fcd13-d43d-4554-b3fd-2e93b0464874"
      },
      "outputs": [
        {
          "output_type": "execute_result",
          "data": {
            "text/plain": [
              "array([[ 1,  3,  5],\n",
              "       [11, 13, 15],\n",
              "       [21, 23, 25]], dtype=int8)"
            ]
          },
          "metadata": {},
          "execution_count": 90
        }
      ],
      "source": [
        "sparse = x[0:5:2, :5:2]\n",
        "sparse"
      ]
    },
    {
      "cell_type": "markdown",
      "metadata": {
        "id": "1I5_BnfJPzo2"
      },
      "source": [
        "## Transpose a 2D array\n",
        "\n",
        "<img src=\"https://github.com/keuperj/DataEngineering22/blob/main/week_1/IMG/np10.png?raw=1\">"
      ]
    },
    {
      "cell_type": "code",
      "execution_count": 91,
      "metadata": {
        "colab": {
          "base_uri": "https://localhost:8080/"
        },
        "id": "BTrGGf0EPzo2",
        "outputId": "364ded34-4e0e-4de2-aaac-759f1af3b262"
      },
      "outputs": [
        {
          "output_type": "execute_result",
          "data": {
            "text/plain": [
              "array([[ 1,  6, 11],\n",
              "       [ 2,  7, 12],\n",
              "       [ 3,  8, 13]], dtype=int8)"
            ]
          },
          "metadata": {},
          "execution_count": 91
        }
      ],
      "source": [
        "transpose = np.transpose(x[:3,:3])\n",
        "transpose"
      ]
    },
    {
      "cell_type": "markdown",
      "metadata": {
        "id": "EO6oBwWRPzo3"
      },
      "source": [
        "## Repeat the first column 4 times\n",
        "\n",
        "\n",
        "<img src=\"https://github.com/keuperj/DataEngineering22/blob/main/week_1/IMG/np11.png?raw=1\">"
      ]
    },
    {
      "cell_type": "code",
      "execution_count": 92,
      "metadata": {
        "colab": {
          "base_uri": "https://localhost:8080/"
        },
        "id": "1HLua9s2Pzo3",
        "outputId": "3533ec8b-b4e0-4238-a972-89a05f82fb64"
      },
      "outputs": [
        {
          "output_type": "execute_result",
          "data": {
            "text/plain": [
              "array([[ 1,  1,  1,  1],\n",
              "       [ 6,  6,  6,  6],\n",
              "       [11, 11, 11, 11],\n",
              "       [16, 16, 16, 16],\n",
              "       [21, 21, 21, 21]], dtype=int8)"
            ]
          },
          "metadata": {},
          "execution_count": 92
        }
      ],
      "source": [
        "firstCol = np.reshape(x[:5,0].repeat(4), (-1, 4))\n",
        "firstCol"
      ]
    },
    {
      "cell_type": "markdown",
      "metadata": {
        "id": "I1nZ3dWyPzo3"
      },
      "source": [
        "## Reshape 1D array to 2D array\n",
        "\n",
        "<img src=\"https://github.com/keuperj/DataEngineering22/blob/main/week_1/IMG/np12.png?raw=1\">"
      ]
    },
    {
      "cell_type": "code",
      "execution_count": 93,
      "metadata": {
        "colab": {
          "base_uri": "https://localhost:8080/"
        },
        "id": "itcGh6w0Pzo3",
        "outputId": "daf17abf-c788-4e7a-9dab-bfacadc62cef"
      },
      "outputs": [
        {
          "output_type": "stream",
          "name": "stdout",
          "text": [
            "[ 1  2  3  4  5  6  7  8  9 10 11 12]\n"
          ]
        },
        {
          "output_type": "execute_result",
          "data": {
            "text/plain": [
              "array([[ 1,  2,  3],\n",
              "       [ 4,  5,  6],\n",
              "       [ 7,  8,  9],\n",
              "       [10, 11, 12]])"
            ]
          },
          "metadata": {},
          "execution_count": 93
        }
      ],
      "source": [
        "x = np.asarray(range(1,13), np.int64)\n",
        "print(x)\n",
        "np.reshape(x, (-1, 3))"
      ]
    },
    {
      "cell_type": "markdown",
      "metadata": {
        "id": "Oa19SRLJPzo4"
      },
      "source": [
        "## Collapse an axis from a 3D array\n",
        "\n",
        "<img src=\"https://github.com/keuperj/DataEngineering22/blob/main/week_1/IMG/np13.png?raw=1\">"
      ]
    },
    {
      "cell_type": "code",
      "execution_count": 94,
      "metadata": {
        "colab": {
          "base_uri": "https://localhost:8080/"
        },
        "id": "fyf-kV0XPzo4",
        "outputId": "14adc9ef-f82f-4190-f56c-577adc3e255d"
      },
      "outputs": [
        {
          "output_type": "stream",
          "name": "stdout",
          "text": [
            "[[[ 1  2]\n",
            "  [ 3  4]]\n",
            "\n",
            " [[ 5  6]\n",
            "  [ 7  8]]\n",
            "\n",
            " [[ 9 10]\n",
            "  [11 12]]]\n"
          ]
        },
        {
          "output_type": "execute_result",
          "data": {
            "text/plain": [
              "array([[ 1,  2,  3,  4],\n",
              "       [ 5,  6,  7,  8],\n",
              "       [ 9, 10, 11, 12]], dtype=int8)"
            ]
          },
          "metadata": {},
          "execution_count": 94
        }
      ],
      "source": [
        "x = np.asarray(range(1,13), np.int8).reshape(3,2,2)\n",
        "print(x)\n",
        "x.reshape(3,-1)"
      ]
    },
    {
      "cell_type": "code",
      "execution_count": 94,
      "metadata": {
        "id": "CrzOOO2KPzo4"
      },
      "outputs": [],
      "source": [
        ""
      ]
    }
  ],
  "metadata": {
    "kernelspec": {
      "display_name": "Python 3",
      "language": "python",
      "name": "python3"
    },
    "language_info": {
      "codemirror_mode": {
        "name": "ipython",
        "version": 3
      },
      "file_extension": ".py",
      "mimetype": "text/x-python",
      "name": "python",
      "nbconvert_exporter": "python",
      "pygments_lexer": "ipython3",
      "version": "3.7.6"
    },
    "colab": {
      "name": "lab_01_NumPy.ipynb",
      "provenance": []
    }
  },
  "nbformat": 4,
  "nbformat_minor": 0
}